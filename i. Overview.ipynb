{
 "cells": [
  {
   "cell_type": "markdown",
   "id": "a3c0351a",
   "metadata": {},
   "source": [
    "## Overview\n",
    "\n",
    "Covid-19 epidemic has been around the world since 2020.  Many measurements are implemented to curb the infection, such as wearing face mask, keeping safety distance with others, and the most prioritized step taken by government is enforcing the vaccination.  According to Health Minister Khairy Jamaluddin in March 2022, \"two million people who received the Sinovac vaccine as their primary vaccination will lose their fully-vaccinated status (if they do not get their booster jab based on the deadline fixed by the ministry) on April 1\".  It seems vaccination is going to be a long haul requirement until the next more effective containment tool is available.  \n",
    "\n",
    "Is vaccination really effective in containing the infection of Covid-19?  hereby would like to analyze the death case against vaccination coverage in Malaysia.  There are 2 main parts in this analysis project:\n",
    "\n",
    "A) An overview understanding of the death case by distribution in age group, gender, state and vaccination status\n",
    "\n",
    "B) Correlation between death case and vaccination coverage\n"
   ]
  },
  {
   "cell_type": "markdown",
   "id": "564e5ca7",
   "metadata": {},
   "source": [
    "### Data Source\n",
    "\n",
    "1. Death case and vaccination data are retrieved from open data available in the official Github account of Malaysia's Ministry of Health.\n",
    "https://github.com/MoH-Malaysia/covid19-public\n",
    "\n",
    "- linelist_deaths: daily updated new deaths, data available since 15 February 2020 to date\n",
    "\n",
    "- vax_state: daily updated vaccination at district level, data available since 24 February 2021 to date\n",
    "\n",
    "\n",
    "2. Lat-lon data is retrived from simplemaps website:\n",
    "https://simplemaps.com/data/my-cities"
   ]
  },
  {
   "cell_type": "markdown",
   "id": "dec359a7",
   "metadata": {},
   "source": [
    "### Analysis & Results"
   ]
  },
  {
   "cell_type": "markdown",
   "id": "99f11394",
   "metadata": {},
   "source": [
    "A) Distribution of death case by age group/ gender, state, vaccination status:\n",
    "\n",
    "*Refer to \"ii. Distribution of death Cases by Gender, Age Group, Vaccination Status & State\" for analysis details and visualization graphs*\n",
    "\n",
    "From the analysis results, noted that **Males** contributed more in the death cases number compared to Females.  In term of age group, citizens in the **age of 60 to 69** were under the highest risk category, especially those who **have not take the vaccine**.\n",
    "\n"
   ]
  },
  {
   "cell_type": "markdown",
   "id": "ca1e83b9",
   "metadata": {},
   "source": [
    "B) Correlation between COVID-19 vaccine coverage rates and outcomes of the COVID-19 epidemic:\n",
    "\n",
    "*Refer to \"iii. Correlation between Death Case and Vaccination\" for analysis details and visualization graphs*\n",
    "\n",
    "It was found that the new death was positively correlated with the first jab and second jab vaccination coverage until October-November 2021.  After that, **negative correlation was noted between new deaths and third jab vaccination**.  Third jab vaccination coverage increased since November 2021 to January 2022, and decreased afterwards. The daily new death figure moved in opposite direction. \n"
   ]
  },
  {
   "cell_type": "markdown",
   "id": "46c6df4b",
   "metadata": {},
   "source": [
    "### Conclusion"
   ]
  },
  {
   "cell_type": "markdown",
   "id": "e0aa6037",
   "metadata": {},
   "source": [
    "There is no effective treatment for the Covid-19 epidemic throughout the world currently, and the goverments depend on vaccines to prevent the infection the disease.  According to the fatality rate distribution analysis, elderly men should take extra caution to prevent getting infected to this disease.  Based on the analysis results of the correlation between vaccine coverage and daily new deaths, it proved that the mass vaccination policy could ease the infection rate and thus decrease in death case numbers.  "
   ]
  }
 ],
 "metadata": {
  "kernelspec": {
   "display_name": "Python 3",
   "language": "python",
   "name": "python3"
  },
  "language_info": {
   "codemirror_mode": {
    "name": "ipython",
    "version": 3
   },
   "file_extension": ".py",
   "mimetype": "text/x-python",
   "name": "python",
   "nbconvert_exporter": "python",
   "pygments_lexer": "ipython3",
   "version": "3.8.8"
  }
 },
 "nbformat": 4,
 "nbformat_minor": 5
}
